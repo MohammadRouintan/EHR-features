{
 "cells": [
  {
   "cell_type": "code",
   "execution_count": 1,
   "metadata": {},
   "outputs": [],
   "source": [
    "import numpy as np\n",
    "import matplotlib.pyplot as plt\n",
    "import csv"
   ]
  },
  {
   "cell_type": "code",
   "execution_count": 15,
   "metadata": {},
   "outputs": [],
   "source": [
    "file_name = './dataset/train_2v.csv'\n",
    "\n",
    "heart_disease = []\n",
    "hypertension = []\n",
    "age = []\n",
    "avg_gluocose_level = []\n",
    "stroke = []"
   ]
  },
  {
   "cell_type": "code",
   "execution_count": 16,
   "metadata": {},
   "outputs": [],
   "source": [
    "with open(file_name, 'r') as csvFile:\n",
    "    reader = csv.reader(csvFile)\n",
    "    next(reader)\n",
    "    for row in reader:\n",
    "        #print (row)\n",
    "        \n",
    "        heart_disease.append(int(row[4]))\n",
    "        hypertension.append(int(row[3]))\n",
    "        age.append(float(row[2]))\n",
    "        avg_gluocose_level.append(float(row[8]))\n",
    "        stroke.append(int(row[11]))"
   ]
  },
  {
   "cell_type": "markdown",
   "metadata": {},
   "source": [
    "## The CHADS2 score"
   ]
  },
  {
   "cell_type": "code",
   "execution_count": 17,
   "metadata": {},
   "outputs": [
    {
     "name": "stdout",
     "output_type": "stream",
     "text": [
      "43400\n",
      "43400\n"
     ]
    }
   ],
   "source": [
    "print (len(heart_disease))\n",
    "print (len(hypertension))"
   ]
  },
  {
   "cell_type": "code",
   "execution_count": 18,
   "metadata": {},
   "outputs": [
    {
     "name": "stdout",
     "output_type": "stream",
     "text": [
      "chads2_score calculation complete\n"
     ]
    }
   ],
   "source": [
    "chads2_score = []\n",
    "\n",
    "for i, item in enumerate(heart_disease):\n",
    "    #print (i,item)\n",
    "    c_score = heart_disease[i]\n",
    "    h_score = hypertension[i]\n",
    "    \n",
    "    if age[i]<75:\n",
    "        a_score = 0\n",
    "    else:\n",
    "        a_score = 1\n",
    "        \n",
    "    if avg_gluocose_level[i]<200:\n",
    "        d_score = 0\n",
    "    else:\n",
    "        d_score = 1\n",
    "        \n",
    "    if stroke[i]==0:\n",
    "        s2_score = 0\n",
    "    else:\n",
    "        s2_score = 2\n",
    "        \n",
    "        \n",
    "    total_score = c_score + h_score + a_score + d_score + s2_score\n",
    "    chads2_score.append(int(total_score))\n",
    "        \n",
    "print ('chads2_score calculation complete')"
   ]
  },
  {
   "cell_type": "code",
   "execution_count": 42,
   "metadata": {},
   "outputs": [
    {
     "name": "stdout",
     "output_type": "stream",
     "text": [
      "0\n",
      "6\n"
     ]
    }
   ],
   "source": [
    "chads2_score = np.array(chads2_score)\n",
    "\n",
    "print (min(chads2_score))\n",
    "print (max(chads2_score))\n",
    "\n",
    "score_0 = np.sum(np.array(chads2_score) == 0)\n",
    "score_1 = np.sum(np.array(chads2_score) == 1)\n",
    "score_2 = np.sum(np.array(chads2_score) == 2)\n",
    "score_3 = np.sum(np.array(chads2_score) == 3)\n",
    "score_4 = np.sum(np.array(chads2_score) == 4)\n",
    "score_5 = np.sum(np.array(chads2_score) == 5)\n",
    "score_6 = np.sum(np.array(chads2_score) == 6)"
   ]
  },
  {
   "cell_type": "code",
   "execution_count": 67,
   "metadata": {},
   "outputs": [
    {
     "data": {
      "image/png": "[encoded data removed]",
      "text/plain": [
       "<Figure size 504x360 with 1 Axes>"
      ]
     },
     "metadata": {
      "needs_background": "light"
     },
     "output_type": "display_data"
    }
   ],
   "source": [
    "fig, ax = plt.subplots(1, figsize=(7,5))\n",
    " \n",
    "courses = list([0, 1, 2, 3, 4, 5, 6])\n",
    "values = list([score_0, score_1, score_2, score_3, score_4, score_5, score_6])\n",
    "\n",
    "\n",
    "# creating the bar plot\n",
    "plt.bar(courses, values, color ='maroon', width = 0.5)\n",
    "\n",
    "\n",
    "plt.xlabel(r'CHADS$_2$ score', fontsize=14)\n",
    "plt.ylabel(\"Number of EHR records\", fontsize=14)\n",
    "plt.title(r'Distribution of CHADS$_2$ score in EHR records', fontsize=15)\n",
    "\n",
    "labelList =['Score 0', 'Score 1','Score 2', 'Score 3', 'Score 4','Score 5', 'Score 6']\n",
    "ax.set_xticklabels(labelList)\n",
    "ax.set_xticks([0.03, 1.03, 2.03, 3.03, 4.03, 5.03, 6.03])\n",
    "plt.savefig('./results/CHADS_score.pdf', format='pdf')\n",
    "plt.show()"
   ]
  },
  {
   "cell_type": "code",
   "execution_count": null,
   "metadata": {},
   "outputs": [],
   "source": []
  }
 ],
 "metadata": {
  "kernelspec": {
   "display_name": "Python 3",
   "language": "python",
   "name": "python3"
  },
  "language_info": {
   "codemirror_mode": {
    "name": "ipython",
    "version": 3
   },
   "file_extension": ".py",
   "mimetype": "text/x-python",
   "name": "python",
   "nbconvert_exporter": "python",
   "pygments_lexer": "ipython3",
   "version": "3.7.4"
  }
 },
 "nbformat": 4,
 "nbformat_minor": 2
}
